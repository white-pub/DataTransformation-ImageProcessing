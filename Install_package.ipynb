{
 "cells": [
  {
   "cell_type": "code",
   "execution_count": 2,
   "id": "310000b9-578b-4143-a5e3-f824e699b7ae",
   "metadata": {
    "scrolled": true
   },
   "outputs": [
    {
     "name": "stdout",
     "output_type": "stream",
     "text": [
      "Collecting pandasNote: you may need to restart the kernel to use updated packages.\n",
      "\n",
      "  Downloading pandas-2.2.2-cp312-cp312-win_amd64.whl.metadata (19 kB)\n",
      "Collecting numpy>=1.26.0 (from pandas)\n",
      "  Downloading numpy-2.1.0-cp312-cp312-win_amd64.whl.metadata (59 kB)\n",
      "Requirement already satisfied: python-dateutil>=2.8.2 in c:\\users\\s9602\\cs322 foundation of data science\\foundation-of-data-science-projects\\venv\\lib\\site-packages (from pandas) (2.9.0.post0)\n",
      "Collecting pytz>=2020.1 (from pandas)\n",
      "  Downloading pytz-2024.1-py2.py3-none-any.whl.metadata (22 kB)\n",
      "Collecting tzdata>=2022.7 (from pandas)\n",
      "  Downloading tzdata-2024.1-py2.py3-none-any.whl.metadata (1.4 kB)\n",
      "Requirement already satisfied: six>=1.5 in c:\\users\\s9602\\cs322 foundation of data science\\foundation-of-data-science-projects\\venv\\lib\\site-packages (from python-dateutil>=2.8.2->pandas) (1.16.0)\n",
      "Downloading pandas-2.2.2-cp312-cp312-win_amd64.whl (11.5 MB)\n",
      "   ---------------------------------------- 0.0/11.5 MB ? eta -:--:--\n",
      "   --- ------------------------------------ 1.0/11.5 MB 7.2 MB/s eta 0:00:02\n",
      "   --------- ------------------------------ 2.6/11.5 MB 6.6 MB/s eta 0:00:02\n",
      "   ------------ --------------------------- 3.7/11.5 MB 6.1 MB/s eta 0:00:02\n",
      "   ------------------- -------------------- 5.5/11.5 MB 6.6 MB/s eta 0:00:01\n",
      "   -------------------------- ------------- 7.6/11.5 MB 7.3 MB/s eta 0:00:01\n",
      "   --------------------------------- ------ 9.7/11.5 MB 8.0 MB/s eta 0:00:01\n",
      "   ---------------------------------------  11.3/11.5 MB 7.9 MB/s eta 0:00:01\n",
      "   ---------------------------------------- 11.5/11.5 MB 7.7 MB/s eta 0:00:00\n",
      "Downloading numpy-2.1.0-cp312-cp312-win_amd64.whl (12.6 MB)\n",
      "   ---------------------------------------- 0.0/12.6 MB ? eta -:--:--\n",
      "   ----- ---------------------------------- 1.6/12.6 MB 7.6 MB/s eta 0:00:02\n",
      "   ---------- ----------------------------- 3.4/12.6 MB 8.4 MB/s eta 0:00:02\n",
      "   ----------------- ---------------------- 5.5/12.6 MB 8.8 MB/s eta 0:00:01\n",
      "   ------------------------- -------------- 7.9/12.6 MB 9.2 MB/s eta 0:00:01\n",
      "   ------------------------------- -------- 10.0/12.6 MB 9.4 MB/s eta 0:00:01\n",
      "   ------------------------------------ --- 11.5/12.6 MB 9.0 MB/s eta 0:00:01\n",
      "   ---------------------------------------- 12.6/12.6 MB 8.8 MB/s eta 0:00:00\n",
      "Downloading pytz-2024.1-py2.py3-none-any.whl (505 kB)\n",
      "Downloading tzdata-2024.1-py2.py3-none-any.whl (345 kB)\n",
      "Installing collected packages: pytz, tzdata, numpy, pandas\n",
      "Successfully installed numpy-2.1.0 pandas-2.2.2 pytz-2024.1 tzdata-2024.1\n"
     ]
    }
   ],
   "source": [
    "pip install pandas"
   ]
  },
  {
   "cell_type": "code",
   "execution_count": 3,
   "id": "f2a0d50e-9999-4e04-b779-4c55c266635c",
   "metadata": {},
   "outputs": [
    {
     "name": "stdout",
     "output_type": "stream",
     "text": [
      "Collecting scikit-learn\n",
      "  Downloading scikit_learn-1.5.1-cp312-cp312-win_amd64.whl.metadata (12 kB)\n",
      "Requirement already satisfied: numpy>=1.19.5 in c:\\users\\s9602\\cs322 foundation of data science\\foundation-of-data-science-projects\\venv\\lib\\site-packages (from scikit-learn) (2.1.0)\n",
      "Collecting scipy>=1.6.0 (from scikit-learn)\n",
      "  Downloading scipy-1.14.1-cp312-cp312-win_amd64.whl.metadata (60 kB)\n",
      "Collecting joblib>=1.2.0 (from scikit-learn)\n",
      "  Downloading joblib-1.4.2-py3-none-any.whl.metadata (5.4 kB)\n",
      "Collecting threadpoolctl>=3.1.0 (from scikit-learn)\n",
      "  Downloading threadpoolctl-3.5.0-py3-none-any.whl.metadata (13 kB)\n",
      "Downloading scikit_learn-1.5.1-cp312-cp312-win_amd64.whl (10.9 MB)\n",
      "   ---------------------------------------- 0.0/10.9 MB ? eta -:--:--\n",
      "   ---- ----------------------------------- 1.3/10.9 MB 8.4 MB/s eta 0:00:02\n",
      "   --------- ------------------------------ 2.6/10.9 MB 6.6 MB/s eta 0:00:02\n",
      "   ------------------- -------------------- 5.2/10.9 MB 8.9 MB/s eta 0:00:01\n",
      "   ---------------------- ----------------- 6.0/10.9 MB 7.9 MB/s eta 0:00:01\n",
      "   ------------------------------- -------- 8.7/10.9 MB 8.5 MB/s eta 0:00:01\n",
      "   ---------------------------------------  10.7/10.9 MB 8.8 MB/s eta 0:00:01\n",
      "   ---------------------------------------- 10.9/10.9 MB 8.5 MB/s eta 0:00:00\n",
      "Downloading joblib-1.4.2-py3-none-any.whl (301 kB)\n",
      "Downloading scipy-1.14.1-cp312-cp312-win_amd64.whl (44.5 MB)\n",
      "   ---------------------------------------- 0.0/44.5 MB ? eta -:--:--\n",
      "   - -------------------------------------- 1.6/44.5 MB 9.4 MB/s eta 0:00:05\n",
      "   --- ------------------------------------ 3.4/44.5 MB 8.4 MB/s eta 0:00:05\n",
      "   ---- ----------------------------------- 5.0/44.5 MB 8.4 MB/s eta 0:00:05\n",
      "   ----- ---------------------------------- 6.6/44.5 MB 8.2 MB/s eta 0:00:05\n",
      "   ------ --------------------------------- 7.6/44.5 MB 7.3 MB/s eta 0:00:06\n",
      "   ------- -------------------------------- 8.7/44.5 MB 7.1 MB/s eta 0:00:06\n",
      "   -------- ------------------------------- 9.4/44.5 MB 6.6 MB/s eta 0:00:06\n",
      "   --------- ------------------------------ 10.7/44.5 MB 6.4 MB/s eta 0:00:06\n",
      "   ---------- ----------------------------- 11.8/44.5 MB 6.5 MB/s eta 0:00:06\n",
      "   ----------- ---------------------------- 13.1/44.5 MB 6.3 MB/s eta 0:00:06\n",
      "   ------------ --------------------------- 14.4/44.5 MB 6.2 MB/s eta 0:00:05\n",
      "   -------------- ------------------------- 16.0/44.5 MB 6.3 MB/s eta 0:00:05\n",
      "   ---------------- ----------------------- 18.1/44.5 MB 6.5 MB/s eta 0:00:05\n",
      "   ------------------ --------------------- 20.2/44.5 MB 6.7 MB/s eta 0:00:04\n",
      "   ------------------- -------------------- 22.0/44.5 MB 6.9 MB/s eta 0:00:04\n",
      "   --------------------- ------------------ 23.6/44.5 MB 6.9 MB/s eta 0:00:04\n",
      "   ----------------------- ---------------- 25.7/44.5 MB 7.1 MB/s eta 0:00:03\n",
      "   ------------------------ --------------- 27.5/44.5 MB 7.2 MB/s eta 0:00:03\n",
      "   ------------------------- -------------- 28.6/44.5 MB 7.1 MB/s eta 0:00:03\n",
      "   -------------------------- ------------- 29.9/44.5 MB 7.0 MB/s eta 0:00:03\n",
      "   --------------------------- ------------ 30.9/44.5 MB 6.9 MB/s eta 0:00:02\n",
      "   ----------------------------- ---------- 32.5/44.5 MB 6.9 MB/s eta 0:00:02\n",
      "   ------------------------------ --------- 33.6/44.5 MB 6.9 MB/s eta 0:00:02\n",
      "   ------------------------------- -------- 34.9/44.5 MB 6.8 MB/s eta 0:00:02\n",
      "   -------------------------------- ------- 36.7/44.5 MB 6.9 MB/s eta 0:00:02\n",
      "   ---------------------------------- ----- 38.5/44.5 MB 6.9 MB/s eta 0:00:01\n",
      "   ------------------------------------ --- 40.1/44.5 MB 7.0 MB/s eta 0:00:01\n",
      "   ------------------------------------- -- 41.7/44.5 MB 7.0 MB/s eta 0:00:01\n",
      "   -------------------------------------- - 43.3/44.5 MB 7.0 MB/s eta 0:00:01\n",
      "   ---------------------------------------  44.3/44.5 MB 7.0 MB/s eta 0:00:01\n",
      "   ---------------------------------------- 44.5/44.5 MB 6.8 MB/s eta 0:00:00\n",
      "Downloading threadpoolctl-3.5.0-py3-none-any.whl (18 kB)\n",
      "Installing collected packages: threadpoolctl, scipy, joblib, scikit-learn\n",
      "Successfully installed joblib-1.4.2 scikit-learn-1.5.1 scipy-1.14.1 threadpoolctl-3.5.0\n",
      "Note: you may need to restart the kernel to use updated packages.\n"
     ]
    }
   ],
   "source": [
    "pip install scikit-learn"
   ]
  },
  {
   "cell_type": "code",
   "execution_count": null,
   "id": "6f7f5127-9b17-482f-87a3-dd906666148d",
   "metadata": {},
   "outputs": [],
   "source": []
  }
 ],
 "metadata": {
  "kernelspec": {
   "display_name": "Python 3 (ipykernel)",
   "language": "python",
   "name": "python3"
  },
  "language_info": {
   "codemirror_mode": {
    "name": "ipython",
    "version": 3
   },
   "file_extension": ".py",
   "mimetype": "text/x-python",
   "name": "python",
   "nbconvert_exporter": "python",
   "pygments_lexer": "ipython3",
   "version": "3.12.5"
  }
 },
 "nbformat": 4,
 "nbformat_minor": 5
}
